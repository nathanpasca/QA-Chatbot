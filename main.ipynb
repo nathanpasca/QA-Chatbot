{
  "nbformat": 4,
  "nbformat_minor": 0,
  "metadata": {
    "colab": {
      "provenance": []
    },
    "kernelspec": {
      "name": "python3",
      "display_name": "Python 3"
    },
    "language_info": {
      "name": "python"
    }
  },
  "cells": [
    {
      "cell_type": "code",
      "source": [
        "!pip install transformers"
      ],
      "metadata": {
        "colab": {
          "base_uri": "https://localhost:8080/"
        },
        "id": "vluLZCqMSQDs",
        "outputId": "2447d6bf-5452-4e2a-bc29-eaeca54c4bc9"
      },
      "execution_count": 2,
      "outputs": [
        {
          "output_type": "stream",
          "name": "stdout",
          "text": [
            "Requirement already satisfied: transformers in /usr/local/lib/python3.11/dist-packages (4.50.3)\n",
            "Requirement already satisfied: filelock in /usr/local/lib/python3.11/dist-packages (from transformers) (3.18.0)\n",
            "Requirement already satisfied: huggingface-hub<1.0,>=0.26.0 in /usr/local/lib/python3.11/dist-packages (from transformers) (0.30.1)\n",
            "Requirement already satisfied: numpy>=1.17 in /usr/local/lib/python3.11/dist-packages (from transformers) (2.0.2)\n",
            "Requirement already satisfied: packaging>=20.0 in /usr/local/lib/python3.11/dist-packages (from transformers) (24.2)\n",
            "Requirement already satisfied: pyyaml>=5.1 in /usr/local/lib/python3.11/dist-packages (from transformers) (6.0.2)\n",
            "Requirement already satisfied: regex!=2019.12.17 in /usr/local/lib/python3.11/dist-packages (from transformers) (2024.11.6)\n",
            "Requirement already satisfied: requests in /usr/local/lib/python3.11/dist-packages (from transformers) (2.32.3)\n",
            "Requirement already satisfied: tokenizers<0.22,>=0.21 in /usr/local/lib/python3.11/dist-packages (from transformers) (0.21.1)\n",
            "Requirement already satisfied: safetensors>=0.4.3 in /usr/local/lib/python3.11/dist-packages (from transformers) (0.5.3)\n",
            "Requirement already satisfied: tqdm>=4.27 in /usr/local/lib/python3.11/dist-packages (from transformers) (4.67.1)\n",
            "Requirement already satisfied: fsspec>=2023.5.0 in /usr/local/lib/python3.11/dist-packages (from huggingface-hub<1.0,>=0.26.0->transformers) (2025.3.2)\n",
            "Requirement already satisfied: typing-extensions>=3.7.4.3 in /usr/local/lib/python3.11/dist-packages (from huggingface-hub<1.0,>=0.26.0->transformers) (4.13.1)\n",
            "Requirement already satisfied: charset-normalizer<4,>=2 in /usr/local/lib/python3.11/dist-packages (from requests->transformers) (3.4.1)\n",
            "Requirement already satisfied: idna<4,>=2.5 in /usr/local/lib/python3.11/dist-packages (from requests->transformers) (3.10)\n",
            "Requirement already satisfied: urllib3<3,>=1.21.1 in /usr/local/lib/python3.11/dist-packages (from requests->transformers) (2.3.0)\n",
            "Requirement already satisfied: certifi>=2017.4.17 in /usr/local/lib/python3.11/dist-packages (from requests->transformers) (2025.1.31)\n"
          ]
        }
      ]
    },
    {
      "cell_type": "code",
      "execution_count": 37,
      "metadata": {
        "colab": {
          "base_uri": "https://localhost:8080/"
        },
        "id": "8szmj-gqOlms",
        "outputId": "51681c1e-3679-4982-ff4f-ac34d120d572"
      },
      "outputs": [
        {
          "output_type": "stream",
          "name": "stderr",
          "text": [
            "[nltk_data] Downloading package punkt_tab to /root/nltk_data...\n",
            "[nltk_data]   Package punkt_tab is already up-to-date!\n",
            "[nltk_data] Downloading package punkt to /root/nltk_data...\n",
            "[nltk_data]   Package punkt is already up-to-date!\n"
          ]
        }
      ],
      "source": [
        "import torch\n",
        "from transformers import AutoModelForQuestionAnswering, AutoTokenizer, pipeline\n",
        "import nltk\n",
        "from nltk.tokenize import word_tokenize\n",
        "import re\n",
        "nltk.download('punkt_tab')\n",
        "nltk.download('punkt')\n",
        "context = \"\"\"\n",
        "Natural Language Processing (NLP) is a specialized branch within the broader field of Artificial Intelligence (AI) that focuses on enabling machines to understand, interpret, generate, and respond to human language in a meaningful way. It sits at the intersection of computer science, linguistics, and cognitive psychology, combining techniques from these disciplines to allow computers to process natural language data both in written and spoken forms. The goal of NLP is not just to parse language as a string of characters or words, but to truly grasp its underlying meaning, intent, and context—mimicking, as closely as possible, the human ability to communicate.\n",
        "\n",
        "At the core of NLP are several foundational techniques such as tokenization, part-of-speech tagging, named entity recognition (NER), syntactic and semantic parsing, word embeddings, and more recently, context-aware vector representations through transformer models. These techniques are powered by a mix of rule-based systems, statistical models, deep learning architectures, and large-scale pretraining on text corpora.\n",
        "\n",
        "NLP enables a wide array of real-world applications that we often interact with daily. These include machine translation systems like Google Translate, speech recognition systems such as Apple’s Siri or Amazon Alexa, sentiment analysis engines used in social media monitoring, automatic summarization tools that condense large documents into short abstracts, and chatbots that serve customers across sectors. Another prominent use case is question answering (QA), where a system processes a natural language query and returns a precise answer drawn from a given context or dataset.\n",
        "\n",
        "In recent years, the field has been revolutionized by the advent of large language models (LLMs), such as BERT (Bidirectional Encoder Representations from Transformers), GPT (Generative Pre-trained Transformer), T5 (Text-to-Text Transfer Transformer), and others. These models are trained on massive datasets and are capable of capturing nuanced linguistic patterns and semantics. BERT is particularly well-suited for tasks that require deep understanding of sentence context, as it reads text bidirectionally. GPT, on the other hand, focuses on generating coherent, fluent text and is optimized for text completion and open-ended dialogue tasks. T5 generalizes all NLP tasks into a text-to-text format, making it a versatile tool for both classification and generation.\n",
        "\n",
        "Among the most widely deployed NLP technologies are chatbots. These systems can be categorized into two main types: rule-based chatbots, which rely on manually defined patterns and logic trees; and AI-driven chatbots, which use machine learning and neural networks to learn from data and generate more natural, human-like interactions. AI-driven chatbots are capable of understanding user intent, maintaining the flow of dialogue over multiple turns, adapting to different contexts, and offering personalized responses based on user history and behavior. They are employed in domains ranging from customer service and banking to healthcare, education, and virtual assistants.\n",
        "\n",
        "Building an effective QA chatbot is a complex task that goes beyond simply extracting sentences from documents. The system must be able to comprehend a given passage, identify the relevant information, and return concise, correct answers. This requires not only robust language models but also high-quality datasets for training and benchmarking. Datasets like SQuAD (Stanford Question Answering Dataset), Natural Questions (by Google), and HotpotQA (which includes multi-hop reasoning) have played a crucial role in advancing QA research by providing standard benchmarks and evaluation protocols.\n",
        "\n",
        "Moreover, QA chatbots must deal with several challenges in real-world applications. These include understanding ambiguous questions, resolving pronouns and references, handling multi-turn conversations, and dealing with the noise and variability in user input. To address these challenges, researchers are increasingly working on context-aware QA systems, which maintain memory of previous questions and answers, use coreference resolution techniques, and incorporate dialogue management strategies.\n",
        "\n",
        "As NLP continues to evolve rapidly, so do the capabilities of QA systems and conversational agents. New directions in research include the development of multilingual and cross-lingual QA systems, which can answer questions in multiple languages; zero-shot and few-shot learning, where models generalize from very few examples; and real-time QA, where answers are generated or retrieved instantly from dynamic data sources. These advancements are pushing the boundaries of what is possible with language technology and are paving the way for more intelligent, responsive, and human-like interactions between people and machines.\n",
        "\"\"\""
      ]
    },
    {
      "cell_type": "code",
      "source": [
        "def resolve_pronouns(question, memory):\n",
        "    if not memory:\n",
        "        return question\n",
        "\n",
        "    pronouns = [\"it\", \"its\", \"they\", \"them\", \"their\", \"this\", \"that\", \"these\", \"those\"]\n",
        "\n",
        "    words = word_tokenize(question.lower())\n",
        "    contains_pronoun = any(word in pronouns for word in words)\n",
        "\n",
        "    if contains_pronoun:\n",
        "        recent_interactions = memory[-3:][::-1]\n",
        "\n",
        "        entity_candidates = []\n",
        "\n",
        "        for interaction in recent_interactions:\n",
        "            prev_question = interaction[\"processed_question\"]\n",
        "            prev_answer = interaction[\"answer\"]\n",
        "\n",
        "            stopwords = set(pronouns + [\"what\", \"when\", \"where\", \"who\", \"how\", \"why\",\n",
        "                                      \"is\", \"are\", \"was\", \"were\", \"will\", \"would\",\n",
        "                                      \"should\", \"could\", \"did\", \"do\", \"does\", \"a\",\n",
        "                                      \"an\", \"the\", \"in\", \"on\", \"at\", \"by\", \"for\"])\n",
        "\n",
        "            for text in [prev_question, prev_answer]:\n",
        "                tokens = word_tokenize(text)\n",
        "                for i in range(len(tokens)):\n",
        "                    if tokens[i].lower() not in stopwords and len(tokens[i]) > 2:\n",
        "                        entity_candidates.append(tokens[i])\n",
        "\n",
        "                        if i < len(tokens) - 1 and tokens[i+1].lower() not in stopwords:\n",
        "                            entity_candidates.append(f\"{tokens[i]} {tokens[i+1]}\")\n",
        "\n",
        "                            if i < len(tokens) - 2 and tokens[i+2].lower() not in stopwords:\n",
        "                                entity_candidates.append(f\"{tokens[i]} {tokens[i+1]} {tokens[i+2]}\")\n",
        "\n",
        "        entity_candidates = sorted(set(entity_candidates), key=len, reverse=True)\n",
        "\n",
        "        if entity_candidates:\n",
        "            words = question.split()\n",
        "            for i, word in enumerate(words):\n",
        "                clean_word = re.sub(r'[^\\w\\s]', '', word.lower())\n",
        "                if clean_word in pronouns:\n",
        "                    best_candidate = entity_candidates[0]\n",
        "\n",
        "                    if word[0].isupper():\n",
        "                        best_candidate = best_candidate[0].upper() + best_candidate[1:]\n",
        "\n",
        "                    punctuation = re.sub(r'[\\w\\s]', '', word)\n",
        "                    if punctuation:\n",
        "                        best_candidate += punctuation\n",
        "\n",
        "                    words[i] = best_candidate\n",
        "                    break\n",
        "\n",
        "            processed_question = \" \".join(words)\n",
        "            print(f\"Resolved question: {processed_question}\")\n",
        "            return processed_question\n",
        "\n",
        "    return question"
      ],
      "metadata": {
        "id": "RlJMFyMrb30r"
      },
      "execution_count": 44,
      "outputs": []
    },
    {
      "cell_type": "code",
      "source": [
        "def answer_question(question, context, qa_pipeline=None):\n",
        "    if qa_pipeline is None:\n",
        "        model_name = \"distilbert-base-cased-distilled-squad\"\n",
        "        qa_pipeline = pipeline(\"question-answering\", model=model_name)\n",
        "\n",
        "    result = qa_pipeline(question=question, context=context)\n",
        "\n",
        "    return result[\"answer\"]"
      ],
      "metadata": {
        "id": "tSJPmmHGSaJZ"
      },
      "execution_count": 45,
      "outputs": []
    },
    {
      "cell_type": "code",
      "source": [
        "def run_chatbot(context_file_path=None, context_text=None):\n",
        "    model_name = \"distilbert-base-cased-distilled-squad\"\n",
        "    qa_pipeline = pipeline(\"question-answering\", model=model_name)\n",
        "\n",
        "    memory = []\n",
        "\n",
        "    print(\"NLP QA Chatbot (type 'exit' to quit)\")\n",
        "\n",
        "    while True:\n",
        "        user_input = input(\"\\nYou: \").strip()\n",
        "\n",
        "        if user_input.lower() == 'exit':\n",
        "            print(\"Goodbye\")\n",
        "            break\n",
        "\n",
        "\n",
        "        processed_question = resolve_pronouns(user_input, memory)\n",
        "\n",
        "        if processed_question != user_input:\n",
        "            print(f\"(Resolving pronouns: '{user_input}' → '{processed_question}')\")\n",
        "\n",
        "        answer = answer_question(processed_question, context, qa_pipeline)\n",
        "\n",
        "        memory.append({\n",
        "            \"question\": user_input,\n",
        "            \"processed_question\": processed_question,\n",
        "            \"answer\": answer\n",
        "        })\n",
        "\n",
        "        if len(memory) > 5:\n",
        "            memory.pop(0)\n",
        "\n",
        "        print(f\"\\nBot: {answer}\")\n",
        ""
      ],
      "metadata": {
        "id": "njTNuxONTJDn"
      },
      "execution_count": 46,
      "outputs": []
    },
    {
      "cell_type": "code",
      "source": [
        "run_chatbot(context_text=context)"
      ],
      "metadata": {
        "colab": {
          "base_uri": "https://localhost:8080/"
        },
        "id": "WtWueFCstqdj",
        "outputId": "4a8c45d2-9df5-499b-c6ad-5871b4ba700c"
      },
      "execution_count": 47,
      "outputs": [
        {
          "output_type": "stream",
          "name": "stderr",
          "text": [
            "Device set to use cpu\n"
          ]
        },
        {
          "output_type": "stream",
          "name": "stdout",
          "text": [
            "NLP QA Chatbot (type 'exit' to quit)\n",
            "\n",
            "You: what is NLP?\n",
            "\n",
            "Bot: Natural Language Processing\n",
            "\n",
            "You: what does it do?\n",
            "Resolved question: what does Natural Language Processing do?\n",
            "(Resolving pronouns: 'what does it do?' → 'what does Natural Language Processing do?')\n",
            "\n",
            "Bot: returns a precise answer drawn from a given context or dataset\n",
            "\n",
            "You: give examples of NLP applications\n",
            "\n",
            "Bot: machine translation systems like Google Translate\n",
            "\n",
            "You: what about TS?\n",
            "\n",
            "Bot: standard benchmarks and evaluation protocols\n",
            "\n",
            "You: what about GPT?\n",
            "\n",
            "Bot: Generative Pre-trained Transformer\n",
            "\n",
            "You: what can they do?\n",
            "Resolved question: what can Generative Pre-trained Transformer do?\n",
            "(Resolving pronouns: 'what can they do?' → 'what can Generative Pre-trained Transformer do?')\n",
            "\n",
            "Bot: GPT\n",
            "\n",
            "You: exit\n",
            "Goodbye\n"
          ]
        }
      ]
    },
    {
      "cell_type": "code",
      "source": [],
      "metadata": {
        "id": "ctb_hEhzrqX-"
      },
      "execution_count": null,
      "outputs": []
    }
  ]
}